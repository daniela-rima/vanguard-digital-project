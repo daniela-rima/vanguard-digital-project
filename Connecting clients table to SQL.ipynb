{
 "cells": [
  {
   "cell_type": "code",
   "execution_count": 1,
   "id": "4d223931",
   "metadata": {},
   "outputs": [
    {
     "name": "stdout",
     "output_type": "stream",
     "text": [
      "········\n"
     ]
    }
   ],
   "source": [
    "import pandas as pd\n",
    "import numpy as np\n",
    "import pymysql\n",
    "from sqlalchemy import create_engine\n",
    "import mysql.connector\n",
    "\n",
    "import getpass  # To get the password without showing the input\n",
    "password = getpass.getpass()"
   ]
  },
  {
   "cell_type": "code",
   "execution_count": 2,
   "id": "bfc84a76",
   "metadata": {},
   "outputs": [],
   "source": [
    "# Connect to MySQL database\n",
    "conn = mysql.connector.connect(host='127.0.0.1', user='root', passwd=password)\n",
    "cursor = conn.cursor()"
   ]
  },
  {
   "cell_type": "code",
   "execution_count": 6,
   "id": "9a141001",
   "metadata": {},
   "outputs": [],
   "source": [
    "# Create or select the database\n",
    "cursor.execute(\"CREATE DATABASE IF NOT EXISTS vanguard\")\n",
    "cursor.execute(\"USE vanguard\")\n",
    "\n",
    "# Read the CSV file into a DataFrame\n",
    "df = pd.read_csv('df_final_demo.txt')\n",
    "\n",
    "# Define MySQL table schema based on DataFrame columns\n",
    "create_table_query = f\"CREATE TABLE IF NOT EXISTS clients ({', '.join([f'{col} VARCHAR(255)' for col in df.columns])})\"\n",
    "cursor.execute(create_table_query)\n",
    "\n",
    "# Convert DataFrame to list of dictionaries, handling NaN values\n",
    "data = df.to_dict(orient='records')\n",
    "for row in data:\n",
    "    for key, value in row.items():\n",
    "        if pd.isna(value):\n",
    "            row[key] = None\n",
    "\n",
    "# Insert data into MySQL table\n",
    "for row in data:\n",
    "    columns = ', '.join(row.keys())\n",
    "    values = ', '.join(['%s'] * len(row))\n",
    "    insert_query = f\"INSERT INTO clients ({columns}) VALUES ({values})\"\n",
    "    cursor.execute(insert_query, list(row.values()))\n",
    "\n",
    "# Commit changes and close connection\n",
    "conn.commit()\n",
    "conn.close()"
   ]
  },
  {
   "cell_type": "code",
   "execution_count": null,
   "id": "77789ebf",
   "metadata": {},
   "outputs": [],
   "source": [
    "df"
   ]
  },
  {
   "cell_type": "code",
   "execution_count": null,
   "id": "e81d407a",
   "metadata": {},
   "outputs": [],
   "source": []
  }
 ],
 "metadata": {
  "kernelspec": {
   "display_name": "Python 3 (ipykernel)",
   "language": "python",
   "name": "python3"
  },
  "language_info": {
   "codemirror_mode": {
    "name": "ipython",
    "version": 3
   },
   "file_extension": ".py",
   "mimetype": "text/x-python",
   "name": "python",
   "nbconvert_exporter": "python",
   "pygments_lexer": "ipython3",
   "version": "3.11.7"
  }
 },
 "nbformat": 4,
 "nbformat_minor": 5
}
